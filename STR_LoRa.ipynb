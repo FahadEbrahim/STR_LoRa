{
  "cells": [
    {
      "cell_type": "markdown",
      "metadata": {
        "id": "view-in-github",
        "colab_type": "text"
      },
      "source": [
        "<a href=\"https://colab.research.google.com/github/FahadEbrahim/STR_LoRa/blob/main/STR_LoRa.ipynb\" target=\"_parent\"><img src=\"https://colab.research.google.com/assets/colab-badge.svg\" alt=\"Open In Colab\"/></a>"
      ]
    },
    {
      "cell_type": "markdown",
      "metadata": {
        "id": "BnWhF5_Zr19c"
      },
      "source": [
        "# How to run"
      ]
    },
    {
      "cell_type": "markdown",
      "metadata": {
        "id": "N8Ew-aIKrK6r"
      },
      "source": [
        "AdaptIRC:\n",
        "\n",
        "\n",
        "* This notebook implements the LoRa meets adapters on the SEMEVAL 2024 Semantic Relatedness Task.\n",
        "\n",
        "* To run the notebook in Colab, just change the environment to GPU through: Runtime >> Change runtime type >> Hardware Accelerator >> GPU.\n",
        "\n",
        "* You may require WANDB token if using newer versions of transformers lib"
      ]
    },
    {
      "cell_type": "code",
      "source": [
        "!pip install -Uq adapters\n",
        "!pip install -q datasets\n",
        "!pip install -Uq accelerate"
      ],
      "metadata": {
        "id": "Lwg319Is90QA",
        "colab": {
          "base_uri": "https://localhost:8080/"
        },
        "outputId": "be477e20-6d93-45fe-974f-3e40f4ed5c36"
      },
      "execution_count": 1,
      "outputs": [
        {
          "output_type": "stream",
          "name": "stdout",
          "text": [
            "\u001b[2K     \u001b[90m━━━━━━━━━━━━━━━━━━━━━━━━━━━━━━━━━━━━━━━━\u001b[0m \u001b[32m252.8/252.8 kB\u001b[0m \u001b[31m2.4 MB/s\u001b[0m eta \u001b[36m0:00:00\u001b[0m\n",
            "\u001b[2K     \u001b[90m━━━━━━━━━━━━━━━━━━━━━━━━━━━━━━━━━━━━━━━━\u001b[0m \u001b[32m536.6/536.6 kB\u001b[0m \u001b[31m3.2 MB/s\u001b[0m eta \u001b[36m0:00:00\u001b[0m\n",
            "\u001b[2K     \u001b[90m━━━━━━━━━━━━━━━━━━━━━━━━━━━━━━━━━━━━━━━━\u001b[0m \u001b[32m38.3/38.3 MB\u001b[0m \u001b[31m16.0 MB/s\u001b[0m eta \u001b[36m0:00:00\u001b[0m\n",
            "\u001b[2K     \u001b[90m━━━━━━━━━━━━━━━━━━━━━━━━━━━━━━━━━━━━━━━━\u001b[0m \u001b[32m116.3/116.3 kB\u001b[0m \u001b[31m14.0 MB/s\u001b[0m eta \u001b[36m0:00:00\u001b[0m\n",
            "\u001b[2K     \u001b[90m━━━━━━━━━━━━━━━━━━━━━━━━━━━━━━━━━━━━━━━━\u001b[0m \u001b[32m134.8/134.8 kB\u001b[0m \u001b[31m12.1 MB/s\u001b[0m eta \u001b[36m0:00:00\u001b[0m\n",
            "\u001b[?25h\u001b[31mERROR: pip's dependency resolver does not currently take into account all the packages that are installed. This behaviour is the source of the following dependency conflicts.\n",
            "ibis-framework 7.1.0 requires pyarrow<15,>=2, but you have pyarrow 15.0.0 which is incompatible.\u001b[0m\u001b[31m\n",
            "\u001b[2K     \u001b[90m━━━━━━━━━━━━━━━━━━━━━━━━━━━━━━━━━━━━━━━━\u001b[0m \u001b[32m280.0/280.0 kB\u001b[0m \u001b[31m2.3 MB/s\u001b[0m eta \u001b[36m0:00:00\u001b[0m\n",
            "\u001b[?25h"
          ]
        }
      ]
    },
    {
      "cell_type": "markdown",
      "metadata": {
        "id": "57bsYiOCkKZi"
      },
      "source": [
        "# Import Libraires"
      ]
    },
    {
      "cell_type": "markdown",
      "metadata": {
        "id": "M1R3tXKFsV3F"
      },
      "source": [
        "Here, we are importing libraries that would be used throughout the notebook. (Pandas, Json, OS, Sklearn, numpy, collections, transformers, adapters, random, torch )."
      ]
    },
    {
      "cell_type": "code",
      "execution_count": 2,
      "metadata": {
        "id": "iRWy6DTArOb_"
      },
      "outputs": [],
      "source": [
        "from transformers import TrainingArguments, EvalPrediction, TrainerCallback, DataCollatorWithPadding\n",
        "import pandas as pd\n",
        "\n",
        "from datasets import Dataset\n",
        "import pandas as pd\n",
        "\n",
        "from transformers import RobertaTokenizer, RobertaConfig, TextClassificationPipeline,AutoModel,AutoConfig,AutoTokenizer\n",
        "from adapters import RobertaAdapterModel,AutoAdapterModel\n",
        "\n",
        "import torch\n",
        "import random\n",
        "from transformers import set_seed\n",
        "import numpy as np\n",
        "\n",
        "from adapters import AdapterTrainer"
      ]
    },
    {
      "cell_type": "markdown",
      "metadata": {
        "id": "zsIIFmSvsq19"
      },
      "source": [
        "# Setting Seed"
      ]
    },
    {
      "cell_type": "markdown",
      "metadata": {
        "id": "9iIWNQq1sqUN"
      },
      "source": [
        "These lines set the seed for reproducability for several libraries ( torch, random, numpy, transformers)"
      ]
    },
    {
      "cell_type": "code",
      "execution_count": 55,
      "metadata": {
        "id": "e1K7mA7rszEE"
      },
      "outputs": [],
      "source": [
        "RANDOM_SEED = 42\n",
        "\n",
        "set_seed(RANDOM_SEED)\n",
        "torch.manual_seed(RANDOM_SEED)\n",
        "random.seed(RANDOM_SEED)\n",
        "np.random.seed(RANDOM_SEED)"
      ]
    },
    {
      "cell_type": "markdown",
      "metadata": {
        "id": "RvvM69cSkPMq"
      },
      "source": [
        "# Dataset"
      ]
    },
    {
      "cell_type": "markdown",
      "metadata": {
        "id": "xGZjXYUftlHX"
      },
      "source": [
        "Reading the dataset cloned from SEMEVAL Github repository:"
      ]
    },
    {
      "cell_type": "code",
      "execution_count": 56,
      "metadata": {
        "id": "rKwMyW9nrOcA"
      },
      "outputs": [],
      "source": [
        "lang = \"ary\"\n",
        "train_link = \"https://raw.githubusercontent.com/semantic-textual-relatedness/Semantic_Relatedness_SemEval2024/main/Track%20A/\" + lang + \"/\" + lang + \"_train.csv\"\n",
        "dev_link  = \"https://raw.githubusercontent.com/semantic-textual-relatedness/Semantic_Relatedness_SemEval2024/main/Track%20A/\" + lang + \"/\" + lang + \"_dev_with_labels.csv\"\n",
        "test_link = \"https://raw.githubusercontent.com/semantic-textual-relatedness/Semantic_Relatedness_SemEval2024/main/Track%20A/\" + lang + \"/\" + lang + \"_test.csv\"\n",
        "\n",
        "train_ds = pd.read_csv(train_link)\n",
        "dev_ds = pd.read_csv(dev_link)\n",
        "test_ds = pd.read_csv(test_link)"
      ]
    },
    {
      "cell_type": "code",
      "source": [
        "# Splitting the input to two sentences\n",
        "train_ds[['sent1', 'sent2']] = train_ds['Text'].str.split('\\n', 1, expand=True)\n",
        "dev_ds[['sent1', 'sent2']] = dev_ds['Text'].str.split('\\n', 1, expand=True)\n",
        "test_ds[['sent1', 'sent2']] = test_ds['Text'].str.split('\\n', 1, expand=True)"
      ],
      "metadata": {
        "colab": {
          "base_uri": "https://localhost:8080/"
        },
        "id": "-FBa8aJdpJqm",
        "outputId": "458156fe-eace-4517-f4dd-b8054589fd4f"
      },
      "execution_count": 57,
      "outputs": [
        {
          "output_type": "stream",
          "name": "stderr",
          "text": [
            "<ipython-input-57-9586c817ed78>:2: FutureWarning: In a future version of pandas all arguments of StringMethods.split except for the argument 'pat' will be keyword-only.\n",
            "  train_ds[['sent1', 'sent2']] = train_ds['Text'].str.split('\\n', 1, expand=True)\n",
            "<ipython-input-57-9586c817ed78>:3: FutureWarning: In a future version of pandas all arguments of StringMethods.split except for the argument 'pat' will be keyword-only.\n",
            "  dev_ds[['sent1', 'sent2']] = dev_ds['Text'].str.split('\\n', 1, expand=True)\n",
            "<ipython-input-57-9586c817ed78>:4: FutureWarning: In a future version of pandas all arguments of StringMethods.split except for the argument 'pat' will be keyword-only.\n",
            "  test_ds[['sent1', 'sent2']] = test_ds['Text'].str.split('\\n', 1, expand=True)\n"
          ]
        }
      ]
    },
    {
      "cell_type": "markdown",
      "metadata": {
        "id": "0dlOc-yNiUpz"
      },
      "source": [
        "# Dataset Processing"
      ]
    },
    {
      "cell_type": "code",
      "execution_count": 58,
      "metadata": {
        "id": "nuLy8ImczCp4"
      },
      "outputs": [],
      "source": [
        "train_dataset = Dataset.from_pandas(train_ds)\n",
        "val_dataset = Dataset.from_pandas(dev_ds)\n",
        "test_dataset = Dataset.from_pandas(test_ds)"
      ]
    },
    {
      "cell_type": "markdown",
      "metadata": {
        "id": "SdDgrO1jie4M"
      },
      "source": [
        "# Model Configuration"
      ]
    },
    {
      "cell_type": "markdown",
      "metadata": {
        "id": "EonUnxNuvPKJ"
      },
      "source": [
        "Here is the new important code: Setting the configurations of the adapters and transformer model."
      ]
    },
    {
      "cell_type": "code",
      "execution_count": 59,
      "metadata": {
        "id": "xuiXl8N7ytlR"
      },
      "outputs": [],
      "source": [
        "def create_model(model_name=\"cross-encoder/stsb-roberta-base\", max_length=256, truncation=True, padding=\"max_length\", device=\"cuda\"):\n",
        "  # The tokenizer is based on Roberta. The configurations are: Max_length = 256, truncation = true, padding = max_length.\n",
        "  tokenizer = AutoTokenizer.from_pretrained(model_name, device=device, max_length=max_length, truncation=truncation, padding=padding)\n",
        "\n",
        "  # Configuration: We have 3 labels: Bug, Enhancment, Question.\n",
        "  config = AutoConfig.from_pretrained(model_name, device=device, num_labels=1)\n",
        "\n",
        "  # Configuration of the Adapter model.\n",
        "  model = AutoAdapterModel.from_pretrained(model_name, config=config)\n",
        "\n",
        "  # This part is for inferencing\n",
        "  classifier = TextClassificationPipeline(model=model, tokenizer=tokenizer, device=device, max_length=max_length, padding=padding, truncation=truncation)\n",
        "\n",
        "  return tokenizer, model, classifier"
      ]
    },
    {
      "cell_type": "markdown",
      "metadata": {
        "id": "lB03gibqcRkq"
      },
      "source": [
        "# Creating Training and Infering Adapters"
      ]
    },
    {
      "cell_type": "markdown",
      "metadata": {
        "id": "jk2sSY9wwwmK"
      },
      "source": [
        "* A Regression head is attached to the model defining the number of labels to be 1 (Regression)\n",
        "* Initilaising the training of the Adapter\n",
        "* Using Adapter Droput Trainer as the Callback.\n",
        "* Configuring the adapter configuarion.\n",
        "* Configure the trainer\n",
        "* Adding the callback.\n",
        "* Start training the adapter\n",
        "* Evalauting the adapter"
      ]
    },
    {
      "cell_type": "code",
      "source": [
        "# Setting the Hyperparameters\n",
        "\n",
        "learning_rate=5e-4\n",
        "epochs=10\n",
        "batch_size=30"
      ],
      "metadata": {
        "id": "8d949ZH0tbwC"
      },
      "execution_count": 60,
      "outputs": []
    },
    {
      "cell_type": "code",
      "source": [
        "# Initilaizing the Model\n",
        "tokenizer, model, classifier = create_model()"
      ],
      "metadata": {
        "id": "PC-7i_Fa2gog",
        "colab": {
          "base_uri": "https://localhost:8080/"
        },
        "outputId": "67d33009-3e92-42e2-861f-0f98ff50f1f6"
      },
      "execution_count": 61,
      "outputs": [
        {
          "output_type": "stream",
          "name": "stderr",
          "text": [
            "Some weights of RobertaAdapterModel were not initialized from the model checkpoint at cross-encoder/stsb-roberta-base and are newly initialized: ['roberta.pooler.dense.weight', 'roberta.pooler.dense.bias']\n",
            "You should probably TRAIN this model on a down-stream task to be able to use it for predictions and inference.\n",
            "The model 'RobertaAdapterModel' is not supported for . Supported models are ['AlbertForSequenceClassification', 'BartForSequenceClassification', 'BertForSequenceClassification', 'BigBirdForSequenceClassification', 'BigBirdPegasusForSequenceClassification', 'BioGptForSequenceClassification', 'BloomForSequenceClassification', 'CamembertForSequenceClassification', 'CanineForSequenceClassification', 'LlamaForSequenceClassification', 'ConvBertForSequenceClassification', 'CTRLForSequenceClassification', 'Data2VecTextForSequenceClassification', 'DebertaForSequenceClassification', 'DebertaV2ForSequenceClassification', 'DistilBertForSequenceClassification', 'ElectraForSequenceClassification', 'ErnieForSequenceClassification', 'ErnieMForSequenceClassification', 'EsmForSequenceClassification', 'FalconForSequenceClassification', 'FlaubertForSequenceClassification', 'FNetForSequenceClassification', 'FunnelForSequenceClassification', 'GPT2ForSequenceClassification', 'GPT2ForSequenceClassification', 'GPTBigCodeForSequenceClassification', 'GPTNeoForSequenceClassification', 'GPTNeoXForSequenceClassification', 'GPTJForSequenceClassification', 'IBertForSequenceClassification', 'LayoutLMForSequenceClassification', 'LayoutLMv2ForSequenceClassification', 'LayoutLMv3ForSequenceClassification', 'LEDForSequenceClassification', 'LiltForSequenceClassification', 'LlamaForSequenceClassification', 'LongformerForSequenceClassification', 'LukeForSequenceClassification', 'MarkupLMForSequenceClassification', 'MBartForSequenceClassification', 'MegaForSequenceClassification', 'MegatronBertForSequenceClassification', 'MistralForSequenceClassification', 'MobileBertForSequenceClassification', 'MPNetForSequenceClassification', 'MptForSequenceClassification', 'MraForSequenceClassification', 'MT5ForSequenceClassification', 'MvpForSequenceClassification', 'NezhaForSequenceClassification', 'NystromformerForSequenceClassification', 'OpenLlamaForSequenceClassification', 'OpenAIGPTForSequenceClassification', 'OPTForSequenceClassification', 'PerceiverForSequenceClassification', 'PersimmonForSequenceClassification', 'PLBartForSequenceClassification', 'QDQBertForSequenceClassification', 'ReformerForSequenceClassification', 'RemBertForSequenceClassification', 'RobertaForSequenceClassification', 'RobertaPreLayerNormForSequenceClassification', 'RoCBertForSequenceClassification', 'RoFormerForSequenceClassification', 'SqueezeBertForSequenceClassification', 'T5ForSequenceClassification', 'TapasForSequenceClassification', 'TransfoXLForSequenceClassification', 'UMT5ForSequenceClassification', 'XLMForSequenceClassification', 'XLMRobertaForSequenceClassification', 'XLMRobertaXLForSequenceClassification', 'XLNetForSequenceClassification', 'XmodForSequenceClassification', 'YosoForSequenceClassification'].\n"
          ]
        }
      ]
    },
    {
      "cell_type": "code",
      "source": [
        "# Encoding\n",
        "enc_train = train_dataset.map(lambda e: tokenizer( e['sent1'],e['sent2'], padding=True, truncation=True), batched=True)\n",
        "enc_val = val_dataset.map(lambda e: tokenizer( e['sent1'],e['sent2'], padding=True, truncation=True), batched=True)\n",
        "enc_test = test_dataset.map(lambda e: tokenizer( e['sent1'],e['sent2'], padding=True, truncation=True), batched=True)"
      ],
      "metadata": {
        "colab": {
          "base_uri": "https://localhost:8080/",
          "height": 113,
          "referenced_widgets": [
            "50e87d91c1244ea5aee87524532913c2",
            "4546ad3825624a3aa72d88dfc06c9312",
            "5788662d9a414bbba89e67bd867c7be6",
            "996ef18e60d246d0a60fb0675b1ed0ae",
            "6eb838feb64a4b1097fc06b53c981ff5",
            "de14ec0db10341ff9ada558569833a3f",
            "403e3775011a432184db4cd8fede17a4",
            "c9c01a1149fc477ea8a7c1e4b703d673",
            "2822d8e6a3d54ad48194630c86daf0bf",
            "7d6cd22a05914df4baeb9fc5a7946ae0",
            "311158d829c74090a8b51bcffae22eac",
            "0712ddbd47e54df1a55ec7441a9e7437",
            "ab4283906cfa42f4a65dacbbbc1e9f62",
            "8e4b9e8e350243349b8ba19ae1bdf830",
            "22e186a75e1d4266a057305aca0c6c15",
            "02ebe950dc344f2ba38a963991485c1f",
            "7f61113f3e5e494fb766d1ab13248e15",
            "6b8c49ee5082478ca7649bd80a30a6e8",
            "4314ab0059994dac9ab6f5787e3f8896",
            "d873a19093b54485980acaac4f289b25",
            "c6ea146302a84ddd992d589b425812c4",
            "605a6a1c667841f69d8b6e1e5f431a1d",
            "ddf2112244714c2a8da67adea67245bf",
            "f173b77592a74f3581a5e60029b957b0",
            "097a704bd2e842a1a2cd0e61b2477e79",
            "12cecfcb64e34163a3a098337bd8fcb4",
            "f46aea6cd97f4b12a20eb448275fe0ef",
            "41254420e8654ae398d710583fd92fa3",
            "5d3b62ecfd68485cb8f138e1c068e690",
            "62d97742adb847ee8ccbafba6b477be3",
            "49fbc92a73974719895d0f37d5a3cae7",
            "12b6bf7f3a4d4e5e8fc3e8e14c6a0fbd",
            "184880ff460f4adb8742bd58020b341e"
          ]
        },
        "id": "glz9ZYd5ti3S",
        "outputId": "99159b8b-1944-4c71-ee90-ffe0dae33131"
      },
      "execution_count": 62,
      "outputs": [
        {
          "output_type": "display_data",
          "data": {
            "text/plain": [
              "Map:   0%|          | 0/924 [00:00<?, ? examples/s]"
            ],
            "application/vnd.jupyter.widget-view+json": {
              "version_major": 2,
              "version_minor": 0,
              "model_id": "50e87d91c1244ea5aee87524532913c2"
            }
          },
          "metadata": {}
        },
        {
          "output_type": "display_data",
          "data": {
            "text/plain": [
              "Map:   0%|          | 0/71 [00:00<?, ? examples/s]"
            ],
            "application/vnd.jupyter.widget-view+json": {
              "version_major": 2,
              "version_minor": 0,
              "model_id": "0712ddbd47e54df1a55ec7441a9e7437"
            }
          },
          "metadata": {}
        },
        {
          "output_type": "display_data",
          "data": {
            "text/plain": [
              "Map:   0%|          | 0/426 [00:00<?, ? examples/s]"
            ],
            "application/vnd.jupyter.widget-view+json": {
              "version_major": 2,
              "version_minor": 0,
              "model_id": "ddf2112244714c2a8da67adea67245bf"
            }
          },
          "metadata": {}
        }
      ]
    },
    {
      "cell_type": "code",
      "source": [
        "# Formatting the columns\n",
        "enc_train=enc_train.rename_column('Score','label')\n",
        "enc_val=enc_val.rename_column('Score','label')\n",
        "\n",
        "enc_train.set_format(type=\"torch\", columns=[\"input_ids\", \"attention_mask\", \"label\"])\n",
        "enc_val.set_format(type=\"torch\", columns=[\"input_ids\", \"attention_mask\", \"label\"])\n",
        "enc_test.set_format(type=\"torch\", columns=[\"input_ids\", \"attention_mask\"])\n"
      ],
      "metadata": {
        "id": "9kdeMgc-tj4q"
      },
      "execution_count": 63,
      "outputs": []
    },
    {
      "cell_type": "code",
      "source": [
        "from scipy.stats import spearmanr, pearsonr\n",
        "from adapters import DoubleSeqBnConfig,LoRAConfig,IA3Config,SeqBnConfig,ParBnConfig,SeqBnInvConfig, DoubleSeqBnInvConfig\n",
        "\n",
        "adapter_name = \"STR_Adapter_\" + lang\n",
        "\n",
        "config = LoRAConfig(r=8, alpha=8)\n",
        "#config = SeqBnConfig()  # This is used for Pffeifer Adapter\n",
        "#config = DoubleSeqBnConfig()  # This is used for Houslby Adapter\n",
        "\n",
        "model.add_adapter(adapter_name, config = config, overwrite_ok=True)\n",
        "\n",
        "# Add a matching classification head\n",
        "model.add_classification_head(\n",
        "    adapter_name,\n",
        "    num_labels=1,   # Num of Labels = 1 >> Regression\n",
        "    overwrite_ok=True\n",
        ")\n",
        "\n",
        "# Initilaize the adapter training\n",
        "model.train_adapter(adapter_name)"
      ],
      "metadata": {
        "id": "xm_hzyGLu49Z"
      },
      "execution_count": 64,
      "outputs": []
    },
    {
      "cell_type": "code",
      "source": [
        "# Metrics used for evaluation ( Regression Metrics )\n",
        "def compute_metrics(pred):\n",
        "  preds = np.squeeze(pred.predictions)\n",
        "  return {\n",
        "  \"MSE\": ((preds - pred.label_ids) ** 2).mean().item(),\n",
        "  \"RMSE\": (np.sqrt (( (preds - pred.label_ids) ** 2).mean())).item(),\n",
        "  \"MAE\": (np.abs(preds - pred.label_ids)).mean().item(),\n",
        "  \"Pearson\" : pearsonr(preds,pred.label_ids)[0],\n",
        "  \"Spearman's Rank\":spearmanr(preds,pred.label_ids)[0]}"
      ],
      "metadata": {
        "id": "ETg2XBZju6t5"
      },
      "execution_count": 65,
      "outputs": []
    },
    {
      "cell_type": "code",
      "source": [
        "training_args = TrainingArguments(\n",
        "    output_dir=f\"training_output/{adapter_name}\",\n",
        "    do_train=True,\n",
        "    do_eval=True,\n",
        "    per_device_train_batch_size=batch_size,\n",
        "    per_device_eval_batch_size=batch_size,\n",
        "    logging_strategy='steps',\n",
        "    logging_dir='./logs',\n",
        "    logging_steps=100,\n",
        "    evaluation_strategy=\"steps\",\n",
        "    fp16=True,\n",
        "    load_best_model_at_end=True,\n",
        "    learning_rate=learning_rate,\n",
        "    num_train_epochs=epochs,\n",
        "    overwrite_output_dir=True,\n",
        "    remove_unused_columns=False,\n",
        "    save_strategy=\"steps\",\n",
        "    seed=RANDOM_SEED,\n",
        "    #fp16=True, # bfloat16 training\n",
        "   \t#torch_compile=True, # optimizations\n",
        "    #optim=\"adamw_torch_fused\", # improved optimizer\n",
        ")"
      ],
      "metadata": {
        "id": "xPHBWR_fu8kR"
      },
      "execution_count": 66,
      "outputs": []
    },
    {
      "cell_type": "code",
      "source": [
        "# Having a data Collator\n",
        "data_collator = DataCollatorWithPadding(tokenizer=tokenizer)"
      ],
      "metadata": {
        "id": "hTmH7qBIu_J5"
      },
      "execution_count": 67,
      "outputs": []
    },
    {
      "cell_type": "code",
      "source": [
        "# Configure the Adapter Trainer\n",
        "trainer = AdapterTrainer(\n",
        "    model=model,\n",
        "    args=training_args,\n",
        "    eval_dataset=enc_val,\n",
        "    train_dataset=enc_train,\n",
        "    compute_metrics=compute_metrics,\n",
        "    data_collator=data_collator\n",
        ")"
      ],
      "metadata": {
        "id": "qDCa0qR0vCMh"
      },
      "execution_count": 68,
      "outputs": []
    },
    {
      "cell_type": "code",
      "source": [
        "# import torch._dynamo\n",
        "# torch._dynamo.config.suppress_errors = True"
      ],
      "metadata": {
        "id": "uIMn2ky9tUwF"
      },
      "execution_count": 69,
      "outputs": []
    },
    {
      "cell_type": "code",
      "source": [
        "# Start training the adapter\n",
        "trainer.train()"
      ],
      "metadata": {
        "colab": {
          "base_uri": "https://localhost:8080/",
          "height": 261
        },
        "id": "pJruocINvD8B",
        "outputId": "0acafca5-ce09-4706-efcd-d69d9b88fb4a"
      },
      "execution_count": 70,
      "outputs": [
        {
          "output_type": "stream",
          "name": "stderr",
          "text": [
            "You're using a RobertaTokenizerFast tokenizer. Please note that with a fast tokenizer, using the `__call__` method is faster than using a method to encode the text followed by a call to the `pad` method to get a padded encoding.\n"
          ]
        },
        {
          "output_type": "display_data",
          "data": {
            "text/plain": [
              "<IPython.core.display.HTML object>"
            ],
            "text/html": [
              "\n",
              "    <div>\n",
              "      \n",
              "      <progress value='310' max='310' style='width:300px; height:20px; vertical-align: middle;'></progress>\n",
              "      [310/310 01:35, Epoch 10/10]\n",
              "    </div>\n",
              "    <table border=\"1\" class=\"dataframe\">\n",
              "  <thead>\n",
              " <tr style=\"text-align: left;\">\n",
              "      <th>Step</th>\n",
              "      <th>Training Loss</th>\n",
              "      <th>Validation Loss</th>\n",
              "      <th>Mse</th>\n",
              "      <th>Rmse</th>\n",
              "      <th>Mae</th>\n",
              "      <th>Pearson</th>\n",
              "      <th>Spearman's rank</th>\n",
              "    </tr>\n",
              "  </thead>\n",
              "  <tbody>\n",
              "    <tr>\n",
              "      <td>100</td>\n",
              "      <td>0.110900</td>\n",
              "      <td>0.017272</td>\n",
              "      <td>0.017272</td>\n",
              "      <td>0.131425</td>\n",
              "      <td>0.104906</td>\n",
              "      <td>0.774309</td>\n",
              "      <td>0.795205</td>\n",
              "    </tr>\n",
              "    <tr>\n",
              "      <td>200</td>\n",
              "      <td>0.021300</td>\n",
              "      <td>0.015324</td>\n",
              "      <td>0.015324</td>\n",
              "      <td>0.123791</td>\n",
              "      <td>0.092343</td>\n",
              "      <td>0.812807</td>\n",
              "      <td>0.825920</td>\n",
              "    </tr>\n",
              "    <tr>\n",
              "      <td>300</td>\n",
              "      <td>0.018400</td>\n",
              "      <td>0.020815</td>\n",
              "      <td>0.020815</td>\n",
              "      <td>0.144272</td>\n",
              "      <td>0.108178</td>\n",
              "      <td>0.825893</td>\n",
              "      <td>0.836071</td>\n",
              "    </tr>\n",
              "  </tbody>\n",
              "</table><p>"
            ]
          },
          "metadata": {}
        },
        {
          "output_type": "execute_result",
          "data": {
            "text/plain": [
              "TrainOutput(global_step=310, training_loss=0.049214643672589334, metrics={'train_runtime': 96.2655, 'train_samples_per_second': 95.985, 'train_steps_per_second': 3.22, 'total_flos': 2473045549793280.0, 'train_loss': 0.049214643672589334, 'epoch': 10.0})"
            ]
          },
          "metadata": {},
          "execution_count": 70
        }
      ]
    },
    {
      "cell_type": "code",
      "source": [
        "evaluation = trainer.evaluate()\n",
        "display(evaluation)"
      ],
      "metadata": {
        "id": "REIInJwZwY-R",
        "colab": {
          "base_uri": "https://localhost:8080/",
          "height": 218
        },
        "outputId": "f112d8b9-3151-4ff8-f2de-3ae39e0cd97d"
      },
      "execution_count": 71,
      "outputs": [
        {
          "output_type": "display_data",
          "data": {
            "text/plain": [
              "<IPython.core.display.HTML object>"
            ],
            "text/html": [
              "\n",
              "    <div>\n",
              "      \n",
              "      <progress value='3' max='3' style='width:300px; height:20px; vertical-align: middle;'></progress>\n",
              "      [3/3 00:00]\n",
              "    </div>\n",
              "    "
            ]
          },
          "metadata": {}
        },
        {
          "output_type": "display_data",
          "data": {
            "text/plain": [
              "{'eval_loss': 0.01704072579741478,\n",
              " 'eval_MSE': 0.01704072766005993,\n",
              " 'eval_RMSE': 0.130540132522583,\n",
              " 'eval_MAE': 0.0941530093550682,\n",
              " 'eval_Pearson': 0.8258843301996432,\n",
              " \"eval_Spearman's Rank\": 0.8340032873361537,\n",
              " 'eval_runtime': 0.2939,\n",
              " 'eval_samples_per_second': 241.609,\n",
              " 'eval_steps_per_second': 10.209,\n",
              " 'epoch': 10.0}"
            ]
          },
          "metadata": {}
        }
      ]
    },
    {
      "cell_type": "code",
      "source": [
        "# Save the adapter\n",
        "model.save_adapter(f\"training_output/{adapter_name}\", adapter_name)\n",
        "\n",
        "# Merging the Repo\n",
        "model.merge_adapter(adapter_name)"
      ],
      "metadata": {
        "id": "dcnyiCnhwZZR"
      },
      "execution_count": 72,
      "outputs": []
    },
    {
      "cell_type": "code",
      "source": [
        "\n",
        "dev_ds ['Pred_Score']= trainer.predict(enc_val)[0]\n",
        "dev_ds ['Pred_Score'] = dev_ds['Pred_Score'].round(2)\n",
        "\n",
        "test_ds ['Pred_Score']= trainer.predict(enc_test)[0]\n",
        "test_ds ['Pred_Score'] = test_ds['Pred_Score'].round(2)"
      ],
      "metadata": {
        "id": "FohENyDg15-F",
        "colab": {
          "base_uri": "https://localhost:8080/",
          "height": 17
        },
        "outputId": "15fda5e9-6a6d-4f7e-c7e9-ea89a564219d"
      },
      "execution_count": 73,
      "outputs": [
        {
          "output_type": "display_data",
          "data": {
            "text/plain": [
              "<IPython.core.display.HTML object>"
            ],
            "text/html": []
          },
          "metadata": {}
        },
        {
          "output_type": "display_data",
          "data": {
            "text/plain": [
              "<IPython.core.display.HTML object>"
            ],
            "text/html": []
          },
          "metadata": {}
        }
      ]
    },
    {
      "cell_type": "code",
      "source": [],
      "metadata": {
        "id": "DPy__xa_HF34"
      },
      "execution_count": 73,
      "outputs": []
    },
    {
      "cell_type": "code",
      "source": [
        "filename = 'pred_' + lang + '_a.csv'\n",
        "# For Dev:\n",
        "# dev_ds[['PairID', 'Pred_Score']].to_csv(filename, index=False)\n",
        "\n",
        "# For Test:\n",
        "test_ds[['PairID', 'Pred_Score']].to_csv(filename, index=False)\n",
        "saved_filename = 'CERoberta' + '_' + lang + '_' + config.architecture + '_e' + str(epochs) + '_bs' + str(batch_size)"
      ],
      "metadata": {
        "id": "rGICye1dyKhI"
      },
      "execution_count": 74,
      "outputs": []
    },
    {
      "cell_type": "code",
      "source": [
        "# This zip file will be uploaded to CodaLab.\n",
        "!zip {saved_filename} {filename}"
      ],
      "metadata": {
        "id": "v9cIOL7699ee",
        "colab": {
          "base_uri": "https://localhost:8080/"
        },
        "outputId": "805551f7-9692-4cb3-84f3-3b679825892e"
      },
      "execution_count": 75,
      "outputs": [
        {
          "output_type": "stream",
          "name": "stdout",
          "text": [
            "updating: pred_ary_a.csv (deflated 80%)\n"
          ]
        }
      ]
    },
    {
      "cell_type": "code",
      "source": [],
      "metadata": {
        "id": "W0vTjYWQBhiT"
      },
      "execution_count": 75,
      "outputs": []
    }
  ],
  "metadata": {
    "colab": {
      "provenance": [],
      "gpuType": "V100",
      "include_colab_link": true
    },
    "kernelspec": {
      "display_name": "Python 3",
      "name": "python3"
    },
    "language_info": {
      "codemirror_mode": {
        "name": "ipython",
        "version": 3
      },
      "file_extension": ".py",
      "mimetype": "text/x-python",
      "name": "python",
      "nbconvert_exporter": "python",
      "pygments_lexer": "ipython3",
      "version": "3.10.13"
    },
    "widgets": {
      "application/vnd.jupyter.widget-state+json": {
        "50e87d91c1244ea5aee87524532913c2": {
          "model_module": "@jupyter-widgets/controls",
          "model_name": "HBoxModel",
          "model_module_version": "1.5.0",
          "state": {
            "_dom_classes": [],
            "_model_module": "@jupyter-widgets/controls",
            "_model_module_version": "1.5.0",
            "_model_name": "HBoxModel",
            "_view_count": null,
            "_view_module": "@jupyter-widgets/controls",
            "_view_module_version": "1.5.0",
            "_view_name": "HBoxView",
            "box_style": "",
            "children": [
              "IPY_MODEL_4546ad3825624a3aa72d88dfc06c9312",
              "IPY_MODEL_5788662d9a414bbba89e67bd867c7be6",
              "IPY_MODEL_996ef18e60d246d0a60fb0675b1ed0ae"
            ],
            "layout": "IPY_MODEL_6eb838feb64a4b1097fc06b53c981ff5"
          }
        },
        "4546ad3825624a3aa72d88dfc06c9312": {
          "model_module": "@jupyter-widgets/controls",
          "model_name": "HTMLModel",
          "model_module_version": "1.5.0",
          "state": {
            "_dom_classes": [],
            "_model_module": "@jupyter-widgets/controls",
            "_model_module_version": "1.5.0",
            "_model_name": "HTMLModel",
            "_view_count": null,
            "_view_module": "@jupyter-widgets/controls",
            "_view_module_version": "1.5.0",
            "_view_name": "HTMLView",
            "description": "",
            "description_tooltip": null,
            "layout": "IPY_MODEL_de14ec0db10341ff9ada558569833a3f",
            "placeholder": "​",
            "style": "IPY_MODEL_403e3775011a432184db4cd8fede17a4",
            "value": "Map: 100%"
          }
        },
        "5788662d9a414bbba89e67bd867c7be6": {
          "model_module": "@jupyter-widgets/controls",
          "model_name": "FloatProgressModel",
          "model_module_version": "1.5.0",
          "state": {
            "_dom_classes": [],
            "_model_module": "@jupyter-widgets/controls",
            "_model_module_version": "1.5.0",
            "_model_name": "FloatProgressModel",
            "_view_count": null,
            "_view_module": "@jupyter-widgets/controls",
            "_view_module_version": "1.5.0",
            "_view_name": "ProgressView",
            "bar_style": "success",
            "description": "",
            "description_tooltip": null,
            "layout": "IPY_MODEL_c9c01a1149fc477ea8a7c1e4b703d673",
            "max": 924,
            "min": 0,
            "orientation": "horizontal",
            "style": "IPY_MODEL_2822d8e6a3d54ad48194630c86daf0bf",
            "value": 924
          }
        },
        "996ef18e60d246d0a60fb0675b1ed0ae": {
          "model_module": "@jupyter-widgets/controls",
          "model_name": "HTMLModel",
          "model_module_version": "1.5.0",
          "state": {
            "_dom_classes": [],
            "_model_module": "@jupyter-widgets/controls",
            "_model_module_version": "1.5.0",
            "_model_name": "HTMLModel",
            "_view_count": null,
            "_view_module": "@jupyter-widgets/controls",
            "_view_module_version": "1.5.0",
            "_view_name": "HTMLView",
            "description": "",
            "description_tooltip": null,
            "layout": "IPY_MODEL_7d6cd22a05914df4baeb9fc5a7946ae0",
            "placeholder": "​",
            "style": "IPY_MODEL_311158d829c74090a8b51bcffae22eac",
            "value": " 924/924 [00:00&lt;00:00, 2170.56 examples/s]"
          }
        },
        "6eb838feb64a4b1097fc06b53c981ff5": {
          "model_module": "@jupyter-widgets/base",
          "model_name": "LayoutModel",
          "model_module_version": "1.2.0",
          "state": {
            "_model_module": "@jupyter-widgets/base",
            "_model_module_version": "1.2.0",
            "_model_name": "LayoutModel",
            "_view_count": null,
            "_view_module": "@jupyter-widgets/base",
            "_view_module_version": "1.2.0",
            "_view_name": "LayoutView",
            "align_content": null,
            "align_items": null,
            "align_self": null,
            "border": null,
            "bottom": null,
            "display": null,
            "flex": null,
            "flex_flow": null,
            "grid_area": null,
            "grid_auto_columns": null,
            "grid_auto_flow": null,
            "grid_auto_rows": null,
            "grid_column": null,
            "grid_gap": null,
            "grid_row": null,
            "grid_template_areas": null,
            "grid_template_columns": null,
            "grid_template_rows": null,
            "height": null,
            "justify_content": null,
            "justify_items": null,
            "left": null,
            "margin": null,
            "max_height": null,
            "max_width": null,
            "min_height": null,
            "min_width": null,
            "object_fit": null,
            "object_position": null,
            "order": null,
            "overflow": null,
            "overflow_x": null,
            "overflow_y": null,
            "padding": null,
            "right": null,
            "top": null,
            "visibility": null,
            "width": null
          }
        },
        "de14ec0db10341ff9ada558569833a3f": {
          "model_module": "@jupyter-widgets/base",
          "model_name": "LayoutModel",
          "model_module_version": "1.2.0",
          "state": {
            "_model_module": "@jupyter-widgets/base",
            "_model_module_version": "1.2.0",
            "_model_name": "LayoutModel",
            "_view_count": null,
            "_view_module": "@jupyter-widgets/base",
            "_view_module_version": "1.2.0",
            "_view_name": "LayoutView",
            "align_content": null,
            "align_items": null,
            "align_self": null,
            "border": null,
            "bottom": null,
            "display": null,
            "flex": null,
            "flex_flow": null,
            "grid_area": null,
            "grid_auto_columns": null,
            "grid_auto_flow": null,
            "grid_auto_rows": null,
            "grid_column": null,
            "grid_gap": null,
            "grid_row": null,
            "grid_template_areas": null,
            "grid_template_columns": null,
            "grid_template_rows": null,
            "height": null,
            "justify_content": null,
            "justify_items": null,
            "left": null,
            "margin": null,
            "max_height": null,
            "max_width": null,
            "min_height": null,
            "min_width": null,
            "object_fit": null,
            "object_position": null,
            "order": null,
            "overflow": null,
            "overflow_x": null,
            "overflow_y": null,
            "padding": null,
            "right": null,
            "top": null,
            "visibility": null,
            "width": null
          }
        },
        "403e3775011a432184db4cd8fede17a4": {
          "model_module": "@jupyter-widgets/controls",
          "model_name": "DescriptionStyleModel",
          "model_module_version": "1.5.0",
          "state": {
            "_model_module": "@jupyter-widgets/controls",
            "_model_module_version": "1.5.0",
            "_model_name": "DescriptionStyleModel",
            "_view_count": null,
            "_view_module": "@jupyter-widgets/base",
            "_view_module_version": "1.2.0",
            "_view_name": "StyleView",
            "description_width": ""
          }
        },
        "c9c01a1149fc477ea8a7c1e4b703d673": {
          "model_module": "@jupyter-widgets/base",
          "model_name": "LayoutModel",
          "model_module_version": "1.2.0",
          "state": {
            "_model_module": "@jupyter-widgets/base",
            "_model_module_version": "1.2.0",
            "_model_name": "LayoutModel",
            "_view_count": null,
            "_view_module": "@jupyter-widgets/base",
            "_view_module_version": "1.2.0",
            "_view_name": "LayoutView",
            "align_content": null,
            "align_items": null,
            "align_self": null,
            "border": null,
            "bottom": null,
            "display": null,
            "flex": null,
            "flex_flow": null,
            "grid_area": null,
            "grid_auto_columns": null,
            "grid_auto_flow": null,
            "grid_auto_rows": null,
            "grid_column": null,
            "grid_gap": null,
            "grid_row": null,
            "grid_template_areas": null,
            "grid_template_columns": null,
            "grid_template_rows": null,
            "height": null,
            "justify_content": null,
            "justify_items": null,
            "left": null,
            "margin": null,
            "max_height": null,
            "max_width": null,
            "min_height": null,
            "min_width": null,
            "object_fit": null,
            "object_position": null,
            "order": null,
            "overflow": null,
            "overflow_x": null,
            "overflow_y": null,
            "padding": null,
            "right": null,
            "top": null,
            "visibility": null,
            "width": null
          }
        },
        "2822d8e6a3d54ad48194630c86daf0bf": {
          "model_module": "@jupyter-widgets/controls",
          "model_name": "ProgressStyleModel",
          "model_module_version": "1.5.0",
          "state": {
            "_model_module": "@jupyter-widgets/controls",
            "_model_module_version": "1.5.0",
            "_model_name": "ProgressStyleModel",
            "_view_count": null,
            "_view_module": "@jupyter-widgets/base",
            "_view_module_version": "1.2.0",
            "_view_name": "StyleView",
            "bar_color": null,
            "description_width": ""
          }
        },
        "7d6cd22a05914df4baeb9fc5a7946ae0": {
          "model_module": "@jupyter-widgets/base",
          "model_name": "LayoutModel",
          "model_module_version": "1.2.0",
          "state": {
            "_model_module": "@jupyter-widgets/base",
            "_model_module_version": "1.2.0",
            "_model_name": "LayoutModel",
            "_view_count": null,
            "_view_module": "@jupyter-widgets/base",
            "_view_module_version": "1.2.0",
            "_view_name": "LayoutView",
            "align_content": null,
            "align_items": null,
            "align_self": null,
            "border": null,
            "bottom": null,
            "display": null,
            "flex": null,
            "flex_flow": null,
            "grid_area": null,
            "grid_auto_columns": null,
            "grid_auto_flow": null,
            "grid_auto_rows": null,
            "grid_column": null,
            "grid_gap": null,
            "grid_row": null,
            "grid_template_areas": null,
            "grid_template_columns": null,
            "grid_template_rows": null,
            "height": null,
            "justify_content": null,
            "justify_items": null,
            "left": null,
            "margin": null,
            "max_height": null,
            "max_width": null,
            "min_height": null,
            "min_width": null,
            "object_fit": null,
            "object_position": null,
            "order": null,
            "overflow": null,
            "overflow_x": null,
            "overflow_y": null,
            "padding": null,
            "right": null,
            "top": null,
            "visibility": null,
            "width": null
          }
        },
        "311158d829c74090a8b51bcffae22eac": {
          "model_module": "@jupyter-widgets/controls",
          "model_name": "DescriptionStyleModel",
          "model_module_version": "1.5.0",
          "state": {
            "_model_module": "@jupyter-widgets/controls",
            "_model_module_version": "1.5.0",
            "_model_name": "DescriptionStyleModel",
            "_view_count": null,
            "_view_module": "@jupyter-widgets/base",
            "_view_module_version": "1.2.0",
            "_view_name": "StyleView",
            "description_width": ""
          }
        },
        "0712ddbd47e54df1a55ec7441a9e7437": {
          "model_module": "@jupyter-widgets/controls",
          "model_name": "HBoxModel",
          "model_module_version": "1.5.0",
          "state": {
            "_dom_classes": [],
            "_model_module": "@jupyter-widgets/controls",
            "_model_module_version": "1.5.0",
            "_model_name": "HBoxModel",
            "_view_count": null,
            "_view_module": "@jupyter-widgets/controls",
            "_view_module_version": "1.5.0",
            "_view_name": "HBoxView",
            "box_style": "",
            "children": [
              "IPY_MODEL_ab4283906cfa42f4a65dacbbbc1e9f62",
              "IPY_MODEL_8e4b9e8e350243349b8ba19ae1bdf830",
              "IPY_MODEL_22e186a75e1d4266a057305aca0c6c15"
            ],
            "layout": "IPY_MODEL_02ebe950dc344f2ba38a963991485c1f"
          }
        },
        "ab4283906cfa42f4a65dacbbbc1e9f62": {
          "model_module": "@jupyter-widgets/controls",
          "model_name": "HTMLModel",
          "model_module_version": "1.5.0",
          "state": {
            "_dom_classes": [],
            "_model_module": "@jupyter-widgets/controls",
            "_model_module_version": "1.5.0",
            "_model_name": "HTMLModel",
            "_view_count": null,
            "_view_module": "@jupyter-widgets/controls",
            "_view_module_version": "1.5.0",
            "_view_name": "HTMLView",
            "description": "",
            "description_tooltip": null,
            "layout": "IPY_MODEL_7f61113f3e5e494fb766d1ab13248e15",
            "placeholder": "​",
            "style": "IPY_MODEL_6b8c49ee5082478ca7649bd80a30a6e8",
            "value": "Map: 100%"
          }
        },
        "8e4b9e8e350243349b8ba19ae1bdf830": {
          "model_module": "@jupyter-widgets/controls",
          "model_name": "FloatProgressModel",
          "model_module_version": "1.5.0",
          "state": {
            "_dom_classes": [],
            "_model_module": "@jupyter-widgets/controls",
            "_model_module_version": "1.5.0",
            "_model_name": "FloatProgressModel",
            "_view_count": null,
            "_view_module": "@jupyter-widgets/controls",
            "_view_module_version": "1.5.0",
            "_view_name": "ProgressView",
            "bar_style": "success",
            "description": "",
            "description_tooltip": null,
            "layout": "IPY_MODEL_4314ab0059994dac9ab6f5787e3f8896",
            "max": 71,
            "min": 0,
            "orientation": "horizontal",
            "style": "IPY_MODEL_d873a19093b54485980acaac4f289b25",
            "value": 71
          }
        },
        "22e186a75e1d4266a057305aca0c6c15": {
          "model_module": "@jupyter-widgets/controls",
          "model_name": "HTMLModel",
          "model_module_version": "1.5.0",
          "state": {
            "_dom_classes": [],
            "_model_module": "@jupyter-widgets/controls",
            "_model_module_version": "1.5.0",
            "_model_name": "HTMLModel",
            "_view_count": null,
            "_view_module": "@jupyter-widgets/controls",
            "_view_module_version": "1.5.0",
            "_view_name": "HTMLView",
            "description": "",
            "description_tooltip": null,
            "layout": "IPY_MODEL_c6ea146302a84ddd992d589b425812c4",
            "placeholder": "​",
            "style": "IPY_MODEL_605a6a1c667841f69d8b6e1e5f431a1d",
            "value": " 71/71 [00:00&lt;00:00, 790.01 examples/s]"
          }
        },
        "02ebe950dc344f2ba38a963991485c1f": {
          "model_module": "@jupyter-widgets/base",
          "model_name": "LayoutModel",
          "model_module_version": "1.2.0",
          "state": {
            "_model_module": "@jupyter-widgets/base",
            "_model_module_version": "1.2.0",
            "_model_name": "LayoutModel",
            "_view_count": null,
            "_view_module": "@jupyter-widgets/base",
            "_view_module_version": "1.2.0",
            "_view_name": "LayoutView",
            "align_content": null,
            "align_items": null,
            "align_self": null,
            "border": null,
            "bottom": null,
            "display": null,
            "flex": null,
            "flex_flow": null,
            "grid_area": null,
            "grid_auto_columns": null,
            "grid_auto_flow": null,
            "grid_auto_rows": null,
            "grid_column": null,
            "grid_gap": null,
            "grid_row": null,
            "grid_template_areas": null,
            "grid_template_columns": null,
            "grid_template_rows": null,
            "height": null,
            "justify_content": null,
            "justify_items": null,
            "left": null,
            "margin": null,
            "max_height": null,
            "max_width": null,
            "min_height": null,
            "min_width": null,
            "object_fit": null,
            "object_position": null,
            "order": null,
            "overflow": null,
            "overflow_x": null,
            "overflow_y": null,
            "padding": null,
            "right": null,
            "top": null,
            "visibility": null,
            "width": null
          }
        },
        "7f61113f3e5e494fb766d1ab13248e15": {
          "model_module": "@jupyter-widgets/base",
          "model_name": "LayoutModel",
          "model_module_version": "1.2.0",
          "state": {
            "_model_module": "@jupyter-widgets/base",
            "_model_module_version": "1.2.0",
            "_model_name": "LayoutModel",
            "_view_count": null,
            "_view_module": "@jupyter-widgets/base",
            "_view_module_version": "1.2.0",
            "_view_name": "LayoutView",
            "align_content": null,
            "align_items": null,
            "align_self": null,
            "border": null,
            "bottom": null,
            "display": null,
            "flex": null,
            "flex_flow": null,
            "grid_area": null,
            "grid_auto_columns": null,
            "grid_auto_flow": null,
            "grid_auto_rows": null,
            "grid_column": null,
            "grid_gap": null,
            "grid_row": null,
            "grid_template_areas": null,
            "grid_template_columns": null,
            "grid_template_rows": null,
            "height": null,
            "justify_content": null,
            "justify_items": null,
            "left": null,
            "margin": null,
            "max_height": null,
            "max_width": null,
            "min_height": null,
            "min_width": null,
            "object_fit": null,
            "object_position": null,
            "order": null,
            "overflow": null,
            "overflow_x": null,
            "overflow_y": null,
            "padding": null,
            "right": null,
            "top": null,
            "visibility": null,
            "width": null
          }
        },
        "6b8c49ee5082478ca7649bd80a30a6e8": {
          "model_module": "@jupyter-widgets/controls",
          "model_name": "DescriptionStyleModel",
          "model_module_version": "1.5.0",
          "state": {
            "_model_module": "@jupyter-widgets/controls",
            "_model_module_version": "1.5.0",
            "_model_name": "DescriptionStyleModel",
            "_view_count": null,
            "_view_module": "@jupyter-widgets/base",
            "_view_module_version": "1.2.0",
            "_view_name": "StyleView",
            "description_width": ""
          }
        },
        "4314ab0059994dac9ab6f5787e3f8896": {
          "model_module": "@jupyter-widgets/base",
          "model_name": "LayoutModel",
          "model_module_version": "1.2.0",
          "state": {
            "_model_module": "@jupyter-widgets/base",
            "_model_module_version": "1.2.0",
            "_model_name": "LayoutModel",
            "_view_count": null,
            "_view_module": "@jupyter-widgets/base",
            "_view_module_version": "1.2.0",
            "_view_name": "LayoutView",
            "align_content": null,
            "align_items": null,
            "align_self": null,
            "border": null,
            "bottom": null,
            "display": null,
            "flex": null,
            "flex_flow": null,
            "grid_area": null,
            "grid_auto_columns": null,
            "grid_auto_flow": null,
            "grid_auto_rows": null,
            "grid_column": null,
            "grid_gap": null,
            "grid_row": null,
            "grid_template_areas": null,
            "grid_template_columns": null,
            "grid_template_rows": null,
            "height": null,
            "justify_content": null,
            "justify_items": null,
            "left": null,
            "margin": null,
            "max_height": null,
            "max_width": null,
            "min_height": null,
            "min_width": null,
            "object_fit": null,
            "object_position": null,
            "order": null,
            "overflow": null,
            "overflow_x": null,
            "overflow_y": null,
            "padding": null,
            "right": null,
            "top": null,
            "visibility": null,
            "width": null
          }
        },
        "d873a19093b54485980acaac4f289b25": {
          "model_module": "@jupyter-widgets/controls",
          "model_name": "ProgressStyleModel",
          "model_module_version": "1.5.0",
          "state": {
            "_model_module": "@jupyter-widgets/controls",
            "_model_module_version": "1.5.0",
            "_model_name": "ProgressStyleModel",
            "_view_count": null,
            "_view_module": "@jupyter-widgets/base",
            "_view_module_version": "1.2.0",
            "_view_name": "StyleView",
            "bar_color": null,
            "description_width": ""
          }
        },
        "c6ea146302a84ddd992d589b425812c4": {
          "model_module": "@jupyter-widgets/base",
          "model_name": "LayoutModel",
          "model_module_version": "1.2.0",
          "state": {
            "_model_module": "@jupyter-widgets/base",
            "_model_module_version": "1.2.0",
            "_model_name": "LayoutModel",
            "_view_count": null,
            "_view_module": "@jupyter-widgets/base",
            "_view_module_version": "1.2.0",
            "_view_name": "LayoutView",
            "align_content": null,
            "align_items": null,
            "align_self": null,
            "border": null,
            "bottom": null,
            "display": null,
            "flex": null,
            "flex_flow": null,
            "grid_area": null,
            "grid_auto_columns": null,
            "grid_auto_flow": null,
            "grid_auto_rows": null,
            "grid_column": null,
            "grid_gap": null,
            "grid_row": null,
            "grid_template_areas": null,
            "grid_template_columns": null,
            "grid_template_rows": null,
            "height": null,
            "justify_content": null,
            "justify_items": null,
            "left": null,
            "margin": null,
            "max_height": null,
            "max_width": null,
            "min_height": null,
            "min_width": null,
            "object_fit": null,
            "object_position": null,
            "order": null,
            "overflow": null,
            "overflow_x": null,
            "overflow_y": null,
            "padding": null,
            "right": null,
            "top": null,
            "visibility": null,
            "width": null
          }
        },
        "605a6a1c667841f69d8b6e1e5f431a1d": {
          "model_module": "@jupyter-widgets/controls",
          "model_name": "DescriptionStyleModel",
          "model_module_version": "1.5.0",
          "state": {
            "_model_module": "@jupyter-widgets/controls",
            "_model_module_version": "1.5.0",
            "_model_name": "DescriptionStyleModel",
            "_view_count": null,
            "_view_module": "@jupyter-widgets/base",
            "_view_module_version": "1.2.0",
            "_view_name": "StyleView",
            "description_width": ""
          }
        },
        "ddf2112244714c2a8da67adea67245bf": {
          "model_module": "@jupyter-widgets/controls",
          "model_name": "HBoxModel",
          "model_module_version": "1.5.0",
          "state": {
            "_dom_classes": [],
            "_model_module": "@jupyter-widgets/controls",
            "_model_module_version": "1.5.0",
            "_model_name": "HBoxModel",
            "_view_count": null,
            "_view_module": "@jupyter-widgets/controls",
            "_view_module_version": "1.5.0",
            "_view_name": "HBoxView",
            "box_style": "",
            "children": [
              "IPY_MODEL_f173b77592a74f3581a5e60029b957b0",
              "IPY_MODEL_097a704bd2e842a1a2cd0e61b2477e79",
              "IPY_MODEL_12cecfcb64e34163a3a098337bd8fcb4"
            ],
            "layout": "IPY_MODEL_f46aea6cd97f4b12a20eb448275fe0ef"
          }
        },
        "f173b77592a74f3581a5e60029b957b0": {
          "model_module": "@jupyter-widgets/controls",
          "model_name": "HTMLModel",
          "model_module_version": "1.5.0",
          "state": {
            "_dom_classes": [],
            "_model_module": "@jupyter-widgets/controls",
            "_model_module_version": "1.5.0",
            "_model_name": "HTMLModel",
            "_view_count": null,
            "_view_module": "@jupyter-widgets/controls",
            "_view_module_version": "1.5.0",
            "_view_name": "HTMLView",
            "description": "",
            "description_tooltip": null,
            "layout": "IPY_MODEL_41254420e8654ae398d710583fd92fa3",
            "placeholder": "​",
            "style": "IPY_MODEL_5d3b62ecfd68485cb8f138e1c068e690",
            "value": "Map: 100%"
          }
        },
        "097a704bd2e842a1a2cd0e61b2477e79": {
          "model_module": "@jupyter-widgets/controls",
          "model_name": "FloatProgressModel",
          "model_module_version": "1.5.0",
          "state": {
            "_dom_classes": [],
            "_model_module": "@jupyter-widgets/controls",
            "_model_module_version": "1.5.0",
            "_model_name": "FloatProgressModel",
            "_view_count": null,
            "_view_module": "@jupyter-widgets/controls",
            "_view_module_version": "1.5.0",
            "_view_name": "ProgressView",
            "bar_style": "success",
            "description": "",
            "description_tooltip": null,
            "layout": "IPY_MODEL_62d97742adb847ee8ccbafba6b477be3",
            "max": 426,
            "min": 0,
            "orientation": "horizontal",
            "style": "IPY_MODEL_49fbc92a73974719895d0f37d5a3cae7",
            "value": 426
          }
        },
        "12cecfcb64e34163a3a098337bd8fcb4": {
          "model_module": "@jupyter-widgets/controls",
          "model_name": "HTMLModel",
          "model_module_version": "1.5.0",
          "state": {
            "_dom_classes": [],
            "_model_module": "@jupyter-widgets/controls",
            "_model_module_version": "1.5.0",
            "_model_name": "HTMLModel",
            "_view_count": null,
            "_view_module": "@jupyter-widgets/controls",
            "_view_module_version": "1.5.0",
            "_view_name": "HTMLView",
            "description": "",
            "description_tooltip": null,
            "layout": "IPY_MODEL_12b6bf7f3a4d4e5e8fc3e8e14c6a0fbd",
            "placeholder": "​",
            "style": "IPY_MODEL_184880ff460f4adb8742bd58020b341e",
            "value": " 426/426 [00:00&lt;00:00, 1923.80 examples/s]"
          }
        },
        "f46aea6cd97f4b12a20eb448275fe0ef": {
          "model_module": "@jupyter-widgets/base",
          "model_name": "LayoutModel",
          "model_module_version": "1.2.0",
          "state": {
            "_model_module": "@jupyter-widgets/base",
            "_model_module_version": "1.2.0",
            "_model_name": "LayoutModel",
            "_view_count": null,
            "_view_module": "@jupyter-widgets/base",
            "_view_module_version": "1.2.0",
            "_view_name": "LayoutView",
            "align_content": null,
            "align_items": null,
            "align_self": null,
            "border": null,
            "bottom": null,
            "display": null,
            "flex": null,
            "flex_flow": null,
            "grid_area": null,
            "grid_auto_columns": null,
            "grid_auto_flow": null,
            "grid_auto_rows": null,
            "grid_column": null,
            "grid_gap": null,
            "grid_row": null,
            "grid_template_areas": null,
            "grid_template_columns": null,
            "grid_template_rows": null,
            "height": null,
            "justify_content": null,
            "justify_items": null,
            "left": null,
            "margin": null,
            "max_height": null,
            "max_width": null,
            "min_height": null,
            "min_width": null,
            "object_fit": null,
            "object_position": null,
            "order": null,
            "overflow": null,
            "overflow_x": null,
            "overflow_y": null,
            "padding": null,
            "right": null,
            "top": null,
            "visibility": null,
            "width": null
          }
        },
        "41254420e8654ae398d710583fd92fa3": {
          "model_module": "@jupyter-widgets/base",
          "model_name": "LayoutModel",
          "model_module_version": "1.2.0",
          "state": {
            "_model_module": "@jupyter-widgets/base",
            "_model_module_version": "1.2.0",
            "_model_name": "LayoutModel",
            "_view_count": null,
            "_view_module": "@jupyter-widgets/base",
            "_view_module_version": "1.2.0",
            "_view_name": "LayoutView",
            "align_content": null,
            "align_items": null,
            "align_self": null,
            "border": null,
            "bottom": null,
            "display": null,
            "flex": null,
            "flex_flow": null,
            "grid_area": null,
            "grid_auto_columns": null,
            "grid_auto_flow": null,
            "grid_auto_rows": null,
            "grid_column": null,
            "grid_gap": null,
            "grid_row": null,
            "grid_template_areas": null,
            "grid_template_columns": null,
            "grid_template_rows": null,
            "height": null,
            "justify_content": null,
            "justify_items": null,
            "left": null,
            "margin": null,
            "max_height": null,
            "max_width": null,
            "min_height": null,
            "min_width": null,
            "object_fit": null,
            "object_position": null,
            "order": null,
            "overflow": null,
            "overflow_x": null,
            "overflow_y": null,
            "padding": null,
            "right": null,
            "top": null,
            "visibility": null,
            "width": null
          }
        },
        "5d3b62ecfd68485cb8f138e1c068e690": {
          "model_module": "@jupyter-widgets/controls",
          "model_name": "DescriptionStyleModel",
          "model_module_version": "1.5.0",
          "state": {
            "_model_module": "@jupyter-widgets/controls",
            "_model_module_version": "1.5.0",
            "_model_name": "DescriptionStyleModel",
            "_view_count": null,
            "_view_module": "@jupyter-widgets/base",
            "_view_module_version": "1.2.0",
            "_view_name": "StyleView",
            "description_width": ""
          }
        },
        "62d97742adb847ee8ccbafba6b477be3": {
          "model_module": "@jupyter-widgets/base",
          "model_name": "LayoutModel",
          "model_module_version": "1.2.0",
          "state": {
            "_model_module": "@jupyter-widgets/base",
            "_model_module_version": "1.2.0",
            "_model_name": "LayoutModel",
            "_view_count": null,
            "_view_module": "@jupyter-widgets/base",
            "_view_module_version": "1.2.0",
            "_view_name": "LayoutView",
            "align_content": null,
            "align_items": null,
            "align_self": null,
            "border": null,
            "bottom": null,
            "display": null,
            "flex": null,
            "flex_flow": null,
            "grid_area": null,
            "grid_auto_columns": null,
            "grid_auto_flow": null,
            "grid_auto_rows": null,
            "grid_column": null,
            "grid_gap": null,
            "grid_row": null,
            "grid_template_areas": null,
            "grid_template_columns": null,
            "grid_template_rows": null,
            "height": null,
            "justify_content": null,
            "justify_items": null,
            "left": null,
            "margin": null,
            "max_height": null,
            "max_width": null,
            "min_height": null,
            "min_width": null,
            "object_fit": null,
            "object_position": null,
            "order": null,
            "overflow": null,
            "overflow_x": null,
            "overflow_y": null,
            "padding": null,
            "right": null,
            "top": null,
            "visibility": null,
            "width": null
          }
        },
        "49fbc92a73974719895d0f37d5a3cae7": {
          "model_module": "@jupyter-widgets/controls",
          "model_name": "ProgressStyleModel",
          "model_module_version": "1.5.0",
          "state": {
            "_model_module": "@jupyter-widgets/controls",
            "_model_module_version": "1.5.0",
            "_model_name": "ProgressStyleModel",
            "_view_count": null,
            "_view_module": "@jupyter-widgets/base",
            "_view_module_version": "1.2.0",
            "_view_name": "StyleView",
            "bar_color": null,
            "description_width": ""
          }
        },
        "12b6bf7f3a4d4e5e8fc3e8e14c6a0fbd": {
          "model_module": "@jupyter-widgets/base",
          "model_name": "LayoutModel",
          "model_module_version": "1.2.0",
          "state": {
            "_model_module": "@jupyter-widgets/base",
            "_model_module_version": "1.2.0",
            "_model_name": "LayoutModel",
            "_view_count": null,
            "_view_module": "@jupyter-widgets/base",
            "_view_module_version": "1.2.0",
            "_view_name": "LayoutView",
            "align_content": null,
            "align_items": null,
            "align_self": null,
            "border": null,
            "bottom": null,
            "display": null,
            "flex": null,
            "flex_flow": null,
            "grid_area": null,
            "grid_auto_columns": null,
            "grid_auto_flow": null,
            "grid_auto_rows": null,
            "grid_column": null,
            "grid_gap": null,
            "grid_row": null,
            "grid_template_areas": null,
            "grid_template_columns": null,
            "grid_template_rows": null,
            "height": null,
            "justify_content": null,
            "justify_items": null,
            "left": null,
            "margin": null,
            "max_height": null,
            "max_width": null,
            "min_height": null,
            "min_width": null,
            "object_fit": null,
            "object_position": null,
            "order": null,
            "overflow": null,
            "overflow_x": null,
            "overflow_y": null,
            "padding": null,
            "right": null,
            "top": null,
            "visibility": null,
            "width": null
          }
        },
        "184880ff460f4adb8742bd58020b341e": {
          "model_module": "@jupyter-widgets/controls",
          "model_name": "DescriptionStyleModel",
          "model_module_version": "1.5.0",
          "state": {
            "_model_module": "@jupyter-widgets/controls",
            "_model_module_version": "1.5.0",
            "_model_name": "DescriptionStyleModel",
            "_view_count": null,
            "_view_module": "@jupyter-widgets/base",
            "_view_module_version": "1.2.0",
            "_view_name": "StyleView",
            "description_width": ""
          }
        }
      }
    },
    "accelerator": "GPU"
  },
  "nbformat": 4,
  "nbformat_minor": 0
}